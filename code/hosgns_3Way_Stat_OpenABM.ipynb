{
 "cells": [
  {
   "cell_type": "code",
   "execution_count": 1,
   "metadata": {},
   "outputs": [
    {
     "name": "stdout",
     "output_type": "stream",
     "text": [
      "Populating the interactive namespace from numpy and matplotlib\n"
     ]
    }
   ],
   "source": [
    "import tensorflow as tf\n",
    "%pylab inline\n",
    "import pickle\n",
    "\n",
    "import itertools\n",
    "import os\n",
    "import pandas as pd\n",
    "\n",
    "import networkx as nx\n",
    "import umap\n",
    "from scipy import stats\n",
    "\n",
    "# %env CUDA_VISIBLE_DEVICES=0"
   ]
  },
  {
   "cell_type": "code",
   "execution_count": 2,
   "metadata": {},
   "outputs": [],
   "source": [
    "tf.config.threading.set_intra_op_parallelism_threads(24)\n",
    "tf.config.threading.set_inter_op_parallelism_threads(24)"
   ]
  },
  {
   "cell_type": "code",
   "execution_count": 3,
   "metadata": {},
   "outputs": [],
   "source": [
    "# gpus = tf.config.experimental.list_physical_devices('GPU')\n",
    "# if gpus:\n",
    "#     try:\n",
    "#     # Currently, memory growth needs to be the same across GPUs\n",
    "#         for gpu in gpus:\n",
    "#             tf.config.experimental.set_memory_growth(gpu, True)\n",
    "#         logical_gpus = tf.config.experimental.list_logical_devices('GPU')\n",
    "#         print(len(gpus), \"Physical GPUs,\", len(logical_gpus), \"Logical GPUs\")\n",
    "#     except RuntimeError as e:\n",
    "#     # Memory growth must be set before GPUs have been initialized\n",
    "#         print(e)"
   ]
  },
  {
   "cell_type": "code",
   "execution_count": 4,
   "metadata": {},
   "outputs": [],
   "source": [
    "import hosgns_walks\n",
    "from utils import *"
   ]
  },
  {
   "cell_type": "code",
   "execution_count": 15,
   "metadata": {},
   "outputs": [],
   "source": [
    "# preprocess dataset\n",
    "dataset = 'OpenABM-Covid19-Interactions-5k-20'\n",
    "AGGR_TIME = 1\n",
    "partial_times, s_temp_net, df_tnet = load_temp_data(dataset, AGGR_TIME)"
   ]
  },
  {
   "cell_type": "code",
   "execution_count": 16,
   "metadata": {},
   "outputs": [],
   "source": [
    "# rename nodes and time slices\n",
    "map_node_index = {node:index for index, node in \\\n",
    "                  enumerate(np.unique(s_temp_net.reset_index()[['i', 'j']].values.flatten()))}\n",
    "map_time_index = {time:index for index, time in \\\n",
    "                  enumerate(np.unique(s_temp_net.reset_index().tslice.values))}\n",
    "NR_NODES = len(map_node_index)\n",
    "NR_TIMES = len(map_time_index)\n",
    "\n",
    "df_tnet['tslice'] = df_tnet['tslice'].map(map_time_index) \n",
    "df_tnet['i'] = df_tnet['i'].map(map_node_index) \n",
    "df_tnet['j'] = df_tnet['j'].map(map_node_index)"
   ]
  },
  {
   "cell_type": "code",
   "execution_count": 17,
   "metadata": {},
   "outputs": [],
   "source": [
    "# load network and default list of active nodes\n",
    "supra_G = pickle.load(open('../preprocessed/SupraAdjacencyMatrix/%s/Stat/Aggtime%d.gpickle' % (dataset, AGGR_TIME), 'rb'))\n",
    "pat_active_time = pickle.load(open('../preprocessed/SupraAdjacencyMatrix/%s/PatActiveTimeAggtime%d.pkl'% (dataset,AGGR_TIME), 'rb'))\n",
    "node_active_time = np.array([str(map_node_index[int(n_node.split('-')[0])])+'-'+\\\n",
    "                                 str(map_time_index[int(n_node.split('-')[1])]) for n_node in pat_active_time])\n",
    "times = [int(x.split('-')[1]) for x in node_active_time]\n",
    "node_tuple_time = [(int(n_node.split('-')[0]), int(n_node.split('-')[1])) for n_node in node_active_time]"
   ]
  },
  {
   "cell_type": "code",
   "execution_count": 18,
   "metadata": {},
   "outputs": [],
   "source": [
    "from sklearn.metrics import f1_score\n",
    "from sklearn.model_selection import train_test_split\n",
    "from sklearn.linear_model import LogisticRegression\n",
    "from sklearn.pipeline import make_pipeline\n",
    "from sklearn.preprocessing import StandardScaler\n",
    "from sklearn.utils.extmath import cartesian"
   ]
  },
  {
   "cell_type": "markdown",
   "metadata": {},
   "source": [
    "# TENSOR FACTORIZATION of 3WAY P(Stat)"
   ]
  },
  {
   "cell_type": "code",
   "execution_count": 19,
   "metadata": {},
   "outputs": [
    {
     "name": "stdout",
     "output_type": "stream",
     "text": [
      "Populating the interactive namespace from numpy and matplotlib\n"
     ]
    }
   ],
   "source": [
    "%pylab inline"
   ]
  },
  {
   "cell_type": "code",
   "execution_count": 10,
   "metadata": {
    "colab": {
     "base_uri": "https://localhost:8080/",
     "height": 1280
    },
    "colab_type": "code",
    "id": "OAUpjCOqXCK1",
    "outputId": "5d16a443-9628-47f3-bab4-1a1d6c74236e"
   },
   "outputs": [
    {
     "name": "stdout",
     "output_type": "stream",
     "text": [
      "Sampling Random Walks...\n",
      "Warmup...\n",
      "WARNING:tensorflow:From /home/spiaggesi/anaconda3/envs/tf2/lib/python3.6/site-packages/tensorflow/python/ops/array_ops.py:5049: calling gather (from tensorflow.python.ops.array_ops) with validate_indices is deprecated and will be removed in a future version.\n",
      "Instructions for updating:\n",
      "The `validate_indices` argument has no effect. Indices are always validated on CPU and never validated on GPU.\n",
      "Training...\n",
      "step    0 - loss: 0.4505593478679657 (26.5536 seconds)\n",
      "step  200 - loss: 0.23769976198673248 (38.2648 seconds)\n",
      "step  400 - loss: 0.195443794131279 (39.0625 seconds)\n",
      "step  600 - loss: 0.1774454265832901 (38.5544 seconds)\n",
      "step  800 - loss: 0.16678138077259064 (38.7622 seconds)\n",
      "step 1000 - loss: 0.15928062796592712 (38.9199 seconds)\n",
      "step 1200 - loss: 0.15361125767230988 (36.0006 seconds)\n",
      "step 1400 - loss: 0.14907245337963104 (38.1222 seconds)\n",
      "step 1600 - loss: 0.14525440335273743 (39.3366 seconds)\n",
      "step 1800 - loss: 0.14200319349765778 (37.8488 seconds)\n",
      "step 2000 - loss: 0.13908013701438904 (38.8870 seconds)\n",
      "step 2200 - loss: 0.1364922672510147 (36.8351 seconds)\n",
      "step 2400 - loss: 0.13410311937332153 (36.0536 seconds)\n",
      "step 2600 - loss: 0.13187317550182343 (38.5140 seconds)\n",
      "step 2800 - loss: 0.1298067271709442 (39.5125 seconds)\n",
      "step 3000 - loss: 0.12786470353603363 (36.6575 seconds)\n",
      "step 3200 - loss: 0.12602567672729492 (37.5195 seconds)\n",
      "step 3400 - loss: 0.12427119165658951 (36.1811 seconds)\n",
      "step 3600 - loss: 0.1225828304886818 (41.9727 seconds)\n",
      "step 3800 - loss: 0.12098202109336853 (37.6604 seconds)\n",
      "step 4000 - loss: 0.11948291212320328 (36.8746 seconds)\n",
      "\n",
      "Total time: 788.0978 seconds.\n"
     ]
    }
   ],
   "source": [
    "# train 3way-hosgns \n",
    "print_every=200\n",
    "solver = hosgns_walks.HOSGNSSolver(network=supra_G.to_undirected(), \n",
    "                         window_size=1,\n",
    "                         emb_dim=128,\n",
    "                         order=3,\n",
    "                         iters=4000,\n",
    "                         batch_size=20000, \n",
    "                         negative_samples=5,\n",
    "                         learning_rate=tf.keras.optimizers.schedules.PolynomialDecay(0.05, 4000),\n",
    "                         warmup_steps=1000,\n",
    "                         random_state=42)\n",
    "loss = solver.train(print_loss='sg', print_every=print_every)\n",
    "emb_W, emb_T, emb_C = solver.model.factors\n",
    "\n",
    "#save embeddings\n",
    "# pickle.dump(list(solver.model.factors), open( '../output/%s_Stat_Aggtime%dWindow%dWay%s.pkl' % (dataset, AGGR_TIME, 1, '3Redu'), \"wb\" ), protocol=pickle.HIGHEST_PROTOCOL)"
   ]
  },
  {
   "cell_type": "code",
   "execution_count": 20,
   "metadata": {},
   "outputs": [],
   "source": [
    "#load embeddings\n",
    "emb_W, emb_T, emb_C = pickle.load(open( '../output/%s_Stat_Aggtime%dWindow%dWay%s.pkl' % (dataset, AGGR_TIME, 1, '3Redu'), \"rb\") )"
   ]
  },
  {
   "cell_type": "code",
   "execution_count": 11,
   "metadata": {},
   "outputs": [
    {
     "data": {
      "text/plain": [
       "Text(0.5, 1.0, '$ -\\\\sum_{ijk}[ p_{ijk} \\\\log \\\\sigma (m_{ijk}) + \\\\kappa p_ip_jp_k \\\\log \\\\sigma (-m_{ijk})]$')"
      ]
     },
     "execution_count": 11,
     "metadata": {},
     "output_type": "execute_result"
    },
    {
     "data": {
      "image/png": "[encoded data removed]",
      "text/plain": [
       "<Figure size 432x288 with 1 Axes>"
      ]
     },
     "metadata": {
      "needs_background": "light"
     },
     "output_type": "display_data"
    }
   ],
   "source": [
    "# plot hosgns loss function \n",
    "\n",
    "plt.plot(np.arange(len(loss['sg']))*print_every, np.array([t for t in loss['sg']]) ,'r')\n",
    "plt.grid()\n",
    "plt.xlabel(\"Training Steps\", fontsize=20)\n",
    "plt.ylabel(\"Skip-Gram Loss\", fontsize=20)\n",
    "plt.title(r'$ -\\sum_{ijk}[ p_{ijk} \\log \\sigma (m_{ijk}) + \\kappa p_ip_jp_k \\log \\sigma (-m_{ijk})]$', fontsize=16)"
   ]
  },
  {
   "cell_type": "markdown",
   "metadata": {},
   "source": [
    "## Node Classification"
   ]
  },
  {
   "cell_type": "code",
   "execution_count": 23,
   "metadata": {},
   "outputs": [
    {
     "name": "stdout",
     "output_type": "stream",
     "text": [
      "F1_macro: 0.2734977768190634 +- 0.0786175050511122\n"
     ]
    }
   ],
   "source": [
    "y = get_infection_label('SIR', 0.125, 0.001, pat_active_time, dataset, AGGR_TIME)\n",
    "nc_res=[]\n",
    "for train_test_dict in make_train_test_splits_NC(y, n_splits=30, starting_test_size=0.3, \\\n",
    "                       node_active_list=node_tuple_time, random_state=100):\n",
    "    emb1_train_idx, emb2_train_idx, y_train_idx = train_test_dict['train']\n",
    "    emb1_test_idx, emb2_test_idx, y_test_idx = train_test_dict['test']\n",
    "    \n",
    "    X_train = emb_W.numpy()[emb1_train_idx]*emb_T.numpy()[emb2_train_idx]\n",
    "    X_test = emb_W.numpy()[emb1_test_idx]*emb_T.numpy()[emb2_test_idx]\n",
    "    y_train = y[y_train_idx]\n",
    "    y_test = y[y_test_idx]\n",
    "    \n",
    "    model_clf = make_pipeline(StandardScaler(), LogisticRegression(max_iter=1000, n_jobs=6, random_state=100))\n",
    "    y_test_pred = model_clf.fit(X_train, y_train).predict(X_test)\n",
    "    nc_res.append(f1_score(y_test, y_test_pred, average='macro'))\n",
    "print('F1_macro:', np.mean(nc_res), '+-', np.std(nc_res))"
   ]
  },
  {
   "cell_type": "markdown",
   "metadata": {},
   "source": [
    "## Link Reconstruction"
   ]
  },
  {
   "cell_type": "code",
   "execution_count": 21,
   "metadata": {
    "scrolled": true
   },
   "outputs": [
    {
     "name": "stdout",
     "output_type": "stream",
     "text": [
      "F1_macro: 0.9692040426786029 +- 0.001010137601193648\n"
     ]
    }
   ],
   "source": [
    "lr_res=[]\n",
    "for train_test_dict in make_train_test_splits_LR(n_splits=6, starting_test_size=0.3, \\\n",
    "                       node_active_list=node_tuple_time, df_events=df_tnet, random_state=100):\n",
    "    emb1_train_idx, emb2_train_idx, emb3_train_idx, y_train = train_test_dict['train']\n",
    "    emb1_test_idx, emb2_test_idx, emb3_test_idx, y_test = train_test_dict['test']\n",
    "    X_train = emb_W.numpy()[emb1_train_idx]*emb_C.numpy()[emb2_train_idx]*emb_T.numpy()[emb3_train_idx]\n",
    "    X_test = emb_W.numpy()[emb1_test_idx]*emb_C.numpy()[emb2_test_idx]*emb_T.numpy()[emb3_test_idx]\n",
    "    \n",
    "    model_clf = make_pipeline(StandardScaler(), LogisticRegression(max_iter=1000, n_jobs=6, random_state=100))\n",
    "    y_test_pred = model_clf.fit(X_train, y_train).predict(X_test)\n",
    "    lr_res.append(f1_score(y_test, y_test_pred, average='macro'))\n",
    "print('F1_macro:', np.mean(lr_res), '+-', np.std(lr_res))"
   ]
  },
  {
   "cell_type": "markdown",
   "metadata": {},
   "source": [
    "## Link Prediction"
   ]
  },
  {
   "cell_type": "code",
   "execution_count": 10,
   "metadata": {},
   "outputs": [],
   "source": [
    "# load network and default list of active nodes\n",
    "supra_G = pickle.load(open('../preprocessed/SupraAdjacencyMatrix/%s/Stat/Aggtime%d.gpickle' % (dataset+'_7030_0', AGGR_TIME), 'rb'))\n",
    "pat_active_time = pickle.load(open('../preprocessed/SupraAdjacencyMatrix/%s/PatActiveTimeAggtime%d.pkl'% (dataset,AGGR_TIME), 'rb'))\n",
    "node_active_time = np.array([str(map_node_index[int(n_node.split('-')[0])])+'-'+\\\n",
    "                                 str(map_time_index[int(n_node.split('-')[1])]) for n_node in pat_active_time])\n",
    "times = [int(x.split('-')[1]) for x in node_active_time]\n",
    "node_tuple_time = [(int(n_node.split('-')[0]), int(n_node.split('-')[1])) for n_node in node_active_time]"
   ]
  },
  {
   "cell_type": "code",
   "execution_count": 11,
   "metadata": {
    "colab": {
     "base_uri": "https://localhost:8080/",
     "height": 1280
    },
    "colab_type": "code",
    "id": "OAUpjCOqXCK1",
    "outputId": "5d16a443-9628-47f3-bab4-1a1d6c74236e"
   },
   "outputs": [
    {
     "name": "stdout",
     "output_type": "stream",
     "text": [
      "Sampling Random Walks...\n",
      "Warmup...\n",
      "WARNING:tensorflow:From /home/spiaggesi/anaconda3/envs/tf2/lib/python3.6/site-packages/tensorflow/python/ops/array_ops.py:5049: calling gather (from tensorflow.python.ops.array_ops) with validate_indices is deprecated and will be removed in a future version.\n",
      "Instructions for updating:\n",
      "The `validate_indices` argument has no effect. Indices are always validated on CPU and never validated on GPU.\n",
      "Training...\n",
      "step    0 - loss: 0.4505690336227417 (30.1117 seconds)\n",
      "step  200 - loss: 0.23258444666862488 (41.1394 seconds)\n",
      "step  400 - loss: 0.1846439242362976 (40.0483 seconds)\n",
      "step  600 - loss: 0.1638634353876114 (39.6710 seconds)\n",
      "step  800 - loss: 0.15133948624134064 (40.2470 seconds)\n",
      "step 1000 - loss: 0.1426786631345749 (39.7366 seconds)\n",
      "step 1200 - loss: 0.13608315587043762 (39.3542 seconds)\n",
      "step 1400 - loss: 0.13077765703201294 (39.7787 seconds)\n",
      "step 1600 - loss: 0.1263435333967209 (41.9091 seconds)\n",
      "step 1800 - loss: 0.12250664085149765 (40.8170 seconds)\n",
      "step 2000 - loss: 0.11914383620023727 (38.5123 seconds)\n",
      "step 2200 - loss: 0.11615611612796783 (39.8880 seconds)\n",
      "step 2400 - loss: 0.11339296400547028 (37.7264 seconds)\n",
      "step 2600 - loss: 0.11082945764064789 (37.1695 seconds)\n",
      "step 2800 - loss: 0.108466237783432 (39.9591 seconds)\n",
      "step 3000 - loss: 0.10622517019510269 (37.3951 seconds)\n",
      "step 3200 - loss: 0.10412073880434036 (40.0385 seconds)\n",
      "step 3400 - loss: 0.10211015492677689 (39.9001 seconds)\n",
      "step 3600 - loss: 0.10018564760684967 (39.9179 seconds)\n",
      "step 3800 - loss: 0.09835661202669144 (37.2483 seconds)\n",
      "step 4000 - loss: 0.09663408249616623 (34.9391 seconds)\n",
      "\n",
      "Total time: 815.5119 seconds.\n"
     ]
    }
   ],
   "source": [
    "# train 3way-hosgns \n",
    "print_every=200\n",
    "solver = hosgns_walks.HOSGNSSolver(network=supra_G.to_undirected(), \n",
    "                         window_size=1,\n",
    "                         emb_dim=128,\n",
    "                         order=3,\n",
    "                         iters=4000,\n",
    "                         batch_size=20000, \n",
    "                         negative_samples=5,\n",
    "                         learning_rate=tf.keras.optimizers.schedules.PolynomialDecay(0.05, 4000),\n",
    "                         warmup_steps=1000,\n",
    "                         random_state=42)\n",
    "loss = solver.train(print_loss='sg', print_every=print_every)\n",
    "emb_W, emb_T, emb_C = solver.model.factors"
   ]
  },
  {
   "cell_type": "code",
   "execution_count": 12,
   "metadata": {},
   "outputs": [],
   "source": [
    "_, _, df_tnet = load_temp_data(dataset, aggr_time=AGGR_TIME)\n",
    "_, _, df_samp = load_modified_temp_data(dataset, aggr_time=AGGR_TIME)\n",
    "df_del = df_tnet.loc[df_tnet.merge(df_samp, on=['tslice','i','j'], how='left', suffixes=('','_')).weight_.isnull()].reset_index(drop=True)\n",
    "\n",
    "df_samp['tslice'] = df_samp['tslice'].map(map_time_index) \n",
    "df_samp['i'] = df_samp['i'].map(map_node_index) \n",
    "df_samp['j'] = df_samp['j'].map(map_node_index)\n",
    "\n",
    "df_del['tslice'] = df_del['tslice'].map(map_time_index) \n",
    "df_del['i'] = df_del['i'].map(map_node_index) \n",
    "df_del['j'] = df_del['j'].map(map_node_index)"
   ]
  },
  {
   "cell_type": "code",
   "execution_count": 14,
   "metadata": {},
   "outputs": [
    {
     "name": "stdout",
     "output_type": "stream",
     "text": [
      "F1_macro: 0.8668545036426405 +- 0.00548866640495443\n"
     ]
    }
   ],
   "source": [
    "df_events = (df_samp, df_del)\n",
    "\n",
    "lp_res=[]\n",
    "for train_test_dict in make_train_test_splits_LP(n_splits=6, starting_test_size=0.3, \\\n",
    "                       node_active_list=node_tuple_time, df_events=df_events, random_state=100):\n",
    "    emb1_train_idx, emb2_train_idx, emb3_train_idx, y_train = train_test_dict['train']\n",
    "    emb1_test_idx, emb2_test_idx, emb3_test_idx, y_test = train_test_dict['test']\n",
    "    X_train = emb_W.numpy()[emb1_train_idx]*emb_C.numpy()[emb2_train_idx]*emb_T.numpy()[emb3_train_idx]\n",
    "    X_test = emb_W.numpy()[emb1_test_idx]*emb_C.numpy()[emb2_test_idx]*emb_T.numpy()[emb3_test_idx]\n",
    "    \n",
    "    model_clf = make_pipeline(StandardScaler(), LogisticRegression(max_iter=1000, n_jobs=6, random_state=100))\n",
    "    y_test_pred = model_clf.fit(X_train, y_train).predict(X_test)\n",
    "    lp_res.append(f1_score(y_test, y_test_pred, average='macro'))\n",
    "print('F1_macro:', np.mean(lp_res), '+-', np.std(lp_res))"
   ]
  },
  {
   "cell_type": "code",
   "execution_count": null,
   "metadata": {},
   "outputs": [],
   "source": []
  },
  {
   "cell_type": "code",
   "execution_count": null,
   "metadata": {},
   "outputs": [],
   "source": []
  }
 ],
 "metadata": {
  "colab": {
   "collapsed_sections": [],
   "name": "Copy of medium_matrix_factorization_tensorflow.ipynb",
   "provenance": []
  },
  "kernelspec": {
   "display_name": "Python 3",
   "language": "python",
   "name": "python3"
  },
  "language_info": {
   "codemirror_mode": {
    "name": "ipython",
    "version": 3
   },
   "file_extension": ".py",
   "mimetype": "text/x-python",
   "name": "python",
   "nbconvert_exporter": "python",
   "pygments_lexer": "ipython3",
   "version": "3.6.13"
  }
 },
 "nbformat": 4,
 "nbformat_minor": 4
}
