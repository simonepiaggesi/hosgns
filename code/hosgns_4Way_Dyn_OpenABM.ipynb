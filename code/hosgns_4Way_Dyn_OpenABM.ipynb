{
 "cells": [
  {
   "cell_type": "code",
   "execution_count": 1,
   "metadata": {},
   "outputs": [
    {
     "name": "stdout",
     "output_type": "stream",
     "text": [
      "Populating the interactive namespace from numpy and matplotlib\n"
     ]
    }
   ],
   "source": [
    "import tensorflow as tf\n",
    "%pylab inline\n",
    "import pickle\n",
    "\n",
    "import itertools\n",
    "import os\n",
    "import pandas as pd\n",
    "\n",
    "import networkx as nx\n",
    "import umap\n",
    "from scipy import stats"
   ]
  },
  {
   "cell_type": "code",
   "execution_count": 2,
   "metadata": {},
   "outputs": [],
   "source": [
    "tf.config.threading.set_intra_op_parallelism_threads(36)\n",
    "tf.config.threading.set_inter_op_parallelism_threads(36)"
   ]
  },
  {
   "cell_type": "code",
   "execution_count": 3,
   "metadata": {},
   "outputs": [],
   "source": [
    "# %env CUDA_VISIBLE_DEVICES=0\n",
    "# gpus = tf.config.experimental.list_physical_devices('GPU')\n",
    "# if gpus:\n",
    "#     try:\n",
    "#     # Currently, memory growth needs to be the same across GPUs\n",
    "#         for gpu in gpus:\n",
    "#             tf.config.experimental.set_memory_growth(gpu, True)\n",
    "#         logical_gpus = tf.config.experimental.list_logical_devices('GPU')\n",
    "#         print(len(gpus), \"Physical GPUs,\", len(logical_gpus), \"Logical GPUs\")\n",
    "#     except RuntimeError as e:\n",
    "#     # Memory growth must be set before GPUs have been initialized\n",
    "#         print(e)"
   ]
  },
  {
   "cell_type": "code",
   "execution_count": 4,
   "metadata": {},
   "outputs": [],
   "source": [
    "import hosgns_walks\n",
    "from utils import *"
   ]
  },
  {
   "cell_type": "code",
   "execution_count": 5,
   "metadata": {},
   "outputs": [],
   "source": [
    "# preprocess dataset\n",
    "dataset = 'OpenABM-Covid19-Interactions-5k-20'\n",
    "AGGR_TIME = 1\n",
    "partial_times, s_temp_net, df_tnet = load_temp_data(dataset, AGGR_TIME)"
   ]
  },
  {
   "cell_type": "code",
   "execution_count": 6,
   "metadata": {},
   "outputs": [],
   "source": [
    "# rename nodes and time slices\n",
    "map_node_index = {node:index for index, node in \\\n",
    "                  enumerate(np.unique(s_temp_net.reset_index()[['i', 'j']].values.flatten()))}\n",
    "map_time_index = {time:index for index, time in \\\n",
    "                  enumerate(np.unique(s_temp_net.reset_index().tslice.values))}\n",
    "NR_NODES = len(map_node_index)\n",
    "NR_TIMES = len(map_time_index)\n",
    "\n",
    "df_tnet['tslice'] = df_tnet['tslice'].map(map_time_index) \n",
    "df_tnet['i'] = df_tnet['i'].map(map_node_index) \n",
    "df_tnet['j'] = df_tnet['j'].map(map_node_index)"
   ]
  },
  {
   "cell_type": "code",
   "execution_count": 7,
   "metadata": {},
   "outputs": [],
   "source": [
    "# load network and default list of active nodes\n",
    "supra_G = pickle.load(open('../preprocessed/SupraAdjacencyMatrix/%s/Dyn/Aggtime%dWeight1ReptimeNon.gpickle' % (dataset, AGGR_TIME), 'rb'))\n",
    "pat_active_time = pickle.load(open('../preprocessed/SupraAdjacencyMatrix/%s/PatActiveTimeAggtime%d.pkl'% (dataset,AGGR_TIME), 'rb'))\n",
    "node_active_time = np.array([str(map_node_index[int(n_node.split('-')[0])])+'-'+\\\n",
    "                                 str(map_time_index[int(n_node.split('-')[1])]) for n_node in pat_active_time])\n",
    "times = [int(x.split('-')[1]) for x in node_active_time]\n",
    "node_tuple_time = [(int(n_node.split('-')[0]), int(n_node.split('-')[1])) for n_node in node_active_time]"
   ]
  },
  {
   "cell_type": "code",
   "execution_count": 8,
   "metadata": {},
   "outputs": [],
   "source": [
    "from sklearn.metrics import f1_score\n",
    "from sklearn.model_selection import train_test_split\n",
    "from sklearn.linear_model import LogisticRegression\n",
    "from sklearn.pipeline import make_pipeline\n",
    "from sklearn.preprocessing import StandardScaler\n",
    "from sklearn.utils.extmath import cartesian"
   ]
  },
  {
   "cell_type": "markdown",
   "metadata": {},
   "source": [
    "# TENSOR FACTORIZATION of 4WAY P(Dyn)"
   ]
  },
  {
   "cell_type": "code",
   "execution_count": 9,
   "metadata": {},
   "outputs": [
    {
     "name": "stdout",
     "output_type": "stream",
     "text": [
      "Populating the interactive namespace from numpy and matplotlib\n"
     ]
    }
   ],
   "source": [
    "%pylab inline"
   ]
  },
  {
   "cell_type": "code",
   "execution_count": 13,
   "metadata": {
    "colab": {
     "base_uri": "https://localhost:8080/",
     "height": 1280
    },
    "colab_type": "code",
    "id": "OAUpjCOqXCK1",
    "outputId": "5d16a443-9628-47f3-bab4-1a1d6c74236e"
   },
   "outputs": [
    {
     "name": "stdout",
     "output_type": "stream",
     "text": [
      "Sampling Random Walks...\n",
      "Warmup...\n",
      "WARNING:tensorflow:From /home/spiaggesi/anaconda3/envs/tf2/lib/python3.6/site-packages/tensorflow/python/ops/array_ops.py:5049: calling gather (from tensorflow.python.ops.array_ops) with validate_indices is deprecated and will be removed in a future version.\n",
      "Instructions for updating:\n",
      "The `validate_indices` argument has no effect. Indices are always validated on CPU and never validated on GPU.\n",
      "Training...\n",
      "step    0 - loss: 0.4505613148212433 (29.9376 seconds)\n",
      "step  200 - loss: 0.4140888750553131 (42.3284 seconds)\n",
      "step  400 - loss: 0.3824400007724762 (40.7112 seconds)\n",
      "step  600 - loss: 0.3675401210784912 (39.9300 seconds)\n",
      "step  800 - loss: 0.35868701338768005 (40.7223 seconds)\n",
      "step 1000 - loss: 0.3525395393371582 (41.5090 seconds)\n",
      "step 1200 - loss: 0.3481978178024292 (40.0792 seconds)\n",
      "step 1400 - loss: 0.3445282578468323 (39.4327 seconds)\n",
      "step 1600 - loss: 0.3416595458984375 (40.3869 seconds)\n",
      "step 1800 - loss: 0.3390478789806366 (39.2934 seconds)\n",
      "step 2000 - loss: 0.3369506299495697 (42.0722 seconds)\n",
      "step 2200 - loss: 0.33506134152412415 (39.0037 seconds)\n",
      "step 2400 - loss: 0.3333771228790283 (39.9336 seconds)\n",
      "step 2600 - loss: 0.33187270164489746 (41.5047 seconds)\n",
      "step 2800 - loss: 0.33052903413772583 (38.5487 seconds)\n",
      "step 3000 - loss: 0.32932376861572266 (39.5251 seconds)\n",
      "step 3200 - loss: 0.32812681794166565 (38.6274 seconds)\n",
      "step 3400 - loss: 0.32699280977249146 (38.8175 seconds)\n",
      "step 3600 - loss: 0.32599109411239624 (38.0392 seconds)\n",
      "step 3800 - loss: 0.32502201199531555 (39.1147 seconds)\n",
      "step 4000 - loss: 0.3241663873195648 (39.5100 seconds)\n",
      "\n",
      "Total time: 829.0316 seconds.\n"
     ]
    }
   ],
   "source": [
    "# train 4way-hosgns \n",
    "print_every=200\n",
    "solver = hosgns_walks.HOSGNSSolver(network=supra_G.to_undirected(), \n",
    "                         window_size=10,\n",
    "                         emb_dim=128,\n",
    "                         order=4,\n",
    "                         iters=4000,\n",
    "                         batch_size=20000, \n",
    "                         negative_samples=5,\n",
    "                         learning_rate=tf.keras.optimizers.schedules.PolynomialDecay(0.05, 4000),\n",
    "                         warmup_steps=1000,\n",
    "                         random_state=42)\n",
    "loss = solver.train(print_loss='sg', print_every=print_every)\n",
    "emb_W, emb_T, emb_C, emb_S = solver.model.factors\n",
    "\n",
    "#save embeddings\n",
    "# pickle.dump(list(solver.model.factors), open( '../output/%s_Dyn_Aggtime%dWeight1ReptimeNonWindow%dWay%s.pkl' % (dataset, AGGR_TIME, 10, '4'), \"wb\" ), protocol=pickle.HIGHEST_PROTOCOL)"
   ]
  },
  {
   "cell_type": "code",
   "execution_count": 24,
   "metadata": {},
   "outputs": [],
   "source": [
    "# load embeddings\n",
    "emb_W, emb_T, emb_C, emb_S = pickle.load(open( '../output/%s_Dyn_Aggtime%dWeight1ReptimeNonWindow%dWay%s.pkl' % (dataset, AGGR_TIME, 10, '4'), \"rb\" ) )"
   ]
  },
  {
   "cell_type": "code",
   "execution_count": 19,
   "metadata": {},
   "outputs": [
    {
     "data": {
      "text/plain": [
       "Text(0.5, 1.0, '$ -\\\\sum_{ijkll}[ p_{ijkl} \\\\log \\\\sigma (m_{ijk}) + \\\\kappa p_ip_jp_kp_l \\\\log \\\\sigma (-m_{ijkl})]$')"
      ]
     },
     "execution_count": 19,
     "metadata": {},
     "output_type": "execute_result"
    },
    {
     "data": {
      "image/png": "[encoded data removed]",
      "text/plain": [
       "<Figure size 432x288 with 1 Axes>"
      ]
     },
     "metadata": {
      "needs_background": "light"
     },
     "output_type": "display_data"
    }
   ],
   "source": [
    "# plot hosgns loss function \n",
    "\n",
    "plt.plot(np.arange(len(loss['sg']))*print_every, np.array([t for t in loss['sg']]) ,'r')\n",
    "plt.grid()\n",
    "plt.xlabel(\"Training Steps\", fontsize=20)\n",
    "plt.ylabel(\"Skip-Gram Loss\", fontsize=20)\n",
    "plt.title(r'$ -\\sum_{ijkl}[ p_{ijkl} \\log \\sigma (m_{ijk}) + \\kappa p_ip_jp_kp_l \\log \\sigma (-m_{ijkl})]$', fontsize=16)"
   ]
  },
  {
   "cell_type": "markdown",
   "metadata": {},
   "source": [
    "## Node Classification"
   ]
  },
  {
   "cell_type": "code",
   "execution_count": 27,
   "metadata": {},
   "outputs": [
    {
     "name": "stdout",
     "output_type": "stream",
     "text": [
      "F1_macro: 0.609783365528168 +- 0.05558362140265357\n"
     ]
    }
   ],
   "source": [
    "y = get_infection_label('SIR', 0.125, 0.001, pat_active_time, dataset, AGGR_TIME)\n",
    "nc_res=[]\n",
    "for train_test_dict in make_train_test_splits_NC(y, n_splits=30, starting_test_size=0.3, \\\n",
    "                       node_active_list=node_tuple_time, random_state=100):\n",
    "    emb1_train_idx, emb2_train_idx, y_train_idx = train_test_dict['train']\n",
    "    emb1_test_idx, emb2_test_idx, y_test_idx = train_test_dict['test']\n",
    "    \n",
    "    X_train = emb_W.numpy()[emb1_train_idx]*emb_T.numpy()[emb2_train_idx]\n",
    "    X_test = emb_W.numpy()[emb1_test_idx]*emb_T.numpy()[emb2_test_idx]\n",
    "    y_train = y[y_train_idx]\n",
    "    y_test = y[y_test_idx]\n",
    "    \n",
    "    model_clf = make_pipeline(StandardScaler(), LogisticRegression(max_iter=1000, n_jobs=6, random_state=100))\n",
    "    y_test_pred = model_clf.fit(X_train, y_train).predict(X_test)\n",
    "    nc_res.append(f1_score(y_test, y_test_pred, average='macro'))\n",
    "print('F1_macro:', np.mean(nc_res), '+-', np.std(nc_res))"
   ]
  },
  {
   "cell_type": "markdown",
   "metadata": {},
   "source": [
    "## Link Reconstruction"
   ]
  },
  {
   "cell_type": "code",
   "execution_count": 26,
   "metadata": {
    "scrolled": true
   },
   "outputs": [
    {
     "name": "stdout",
     "output_type": "stream",
     "text": [
      "F1_macro: 0.8205713345549522 +- 0.013561788280833464\n"
     ]
    }
   ],
   "source": [
    "lr_res=[]\n",
    "for train_test_dict in make_train_test_splits_LR(n_splits=6, starting_test_size=0.3, \\\n",
    "                       node_active_list=node_tuple_time, df_events=df_tnet, random_state=100):\n",
    "    emb1_train_idx, emb2_train_idx, emb3_train_idx, y_train = train_test_dict['train']\n",
    "    emb1_test_idx, emb2_test_idx, emb3_test_idx, y_test = train_test_dict['test']\n",
    "    X_train = emb_W.numpy()[emb1_train_idx]*emb_C.numpy()[emb2_train_idx]\\\n",
    "                *emb_T.numpy()[emb3_train_idx]*emb_S.numpy()[emb3_train_idx]\n",
    "    X_test = emb_W.numpy()[emb1_test_idx]*emb_C.numpy()[emb2_test_idx]\\\n",
    "                *emb_T.numpy()[emb3_test_idx]*emb_S.numpy()[emb3_test_idx]\n",
    "    \n",
    "    model_clf = make_pipeline(StandardScaler(), LogisticRegression(max_iter=1000, n_jobs=6, random_state=100))\n",
    "    y_test_pred = model_clf.fit(X_train, y_train).predict(X_test)\n",
    "    lr_res.append(f1_score(y_test, y_test_pred, average='macro'))\n",
    "print('F1_macro:', np.mean(lr_res), '+-', np.std(lr_res))"
   ]
  },
  {
   "cell_type": "markdown",
   "metadata": {},
   "source": [
    "## Link Prediction"
   ]
  },
  {
   "cell_type": "code",
   "execution_count": 10,
   "metadata": {},
   "outputs": [],
   "source": [
    "# load network and default list of active nodes\n",
    "supra_G = pickle.load(open('../preprocessed/SupraAdjacencyMatrix/%s/Dyn/Aggtime%dWeight1ReptimeNon.gpickle' % (dataset+'_7030_0', AGGR_TIME), 'rb'))\n",
    "pat_active_time = pickle.load(open('../preprocessed/SupraAdjacencyMatrix/%s/PatActiveTimeAggtime%d.pkl'% (dataset ,AGGR_TIME), 'rb'))\n",
    "node_active_time = np.array([str(map_node_index[int(n_node.split('-')[0])])+'-'+\\\n",
    "                                 str(map_time_index[int(n_node.split('-')[1])]) for n_node in pat_active_time])\n",
    "times = [int(x.split('-')[1]) for x in node_active_time]\n",
    "node_tuple_time = [(int(n_node.split('-')[0]), int(n_node.split('-')[1])) for n_node in node_active_time]"
   ]
  },
  {
   "cell_type": "code",
   "execution_count": 11,
   "metadata": {
    "colab": {
     "base_uri": "https://localhost:8080/",
     "height": 1280
    },
    "colab_type": "code",
    "id": "OAUpjCOqXCK1",
    "outputId": "5d16a443-9628-47f3-bab4-1a1d6c74236e"
   },
   "outputs": [
    {
     "name": "stdout",
     "output_type": "stream",
     "text": [
      "Sampling Random Walks...\n",
      "Warmup...\n",
      "WARNING:tensorflow:From /home/spiaggesi/anaconda3/envs/tf2/lib/python3.6/site-packages/tensorflow/python/ops/array_ops.py:5049: calling gather (from tensorflow.python.ops.array_ops) with validate_indices is deprecated and will be removed in a future version.\n",
      "Instructions for updating:\n",
      "The `validate_indices` argument has no effect. Indices are always validated on CPU and never validated on GPU.\n",
      "Training...\n",
      "step    0 - loss: 0.4505610466003418 (27.9205 seconds)\n",
      "step  200 - loss: 0.4138459861278534 (38.8677 seconds)\n",
      "step  400 - loss: 0.37898558378219604 (36.5471 seconds)\n",
      "step  600 - loss: 0.36319392919540405 (35.1069 seconds)\n",
      "step  800 - loss: 0.35400718450546265 (38.5533 seconds)\n",
      "step 1000 - loss: 0.34787166118621826 (38.3080 seconds)\n",
      "step 1200 - loss: 0.3432738780975342 (35.9054 seconds)\n",
      "step 1400 - loss: 0.33967161178588867 (35.6171 seconds)\n",
      "step 1600 - loss: 0.33674106001853943 (35.7738 seconds)\n",
      "step 1800 - loss: 0.3343159258365631 (37.0103 seconds)\n",
      "step 2000 - loss: 0.3322913348674774 (34.2305 seconds)\n",
      "step 2200 - loss: 0.33043172955513 (36.8444 seconds)\n",
      "step 2400 - loss: 0.32875069975852966 (36.0171 seconds)\n",
      "step 2600 - loss: 0.32729747891426086 (35.1550 seconds)\n",
      "step 2800 - loss: 0.32592958211898804 (35.5750 seconds)\n",
      "step 3000 - loss: 0.3247249722480774 (37.0568 seconds)\n",
      "step 3200 - loss: 0.32358676195144653 (36.8186 seconds)\n",
      "step 3400 - loss: 0.3224763870239258 (32.8196 seconds)\n",
      "step 3600 - loss: 0.32144683599472046 (38.2842 seconds)\n",
      "step 3800 - loss: 0.3204757273197174 (36.8876 seconds)\n",
      "step 4000 - loss: 0.31956747174263 (35.3905 seconds)\n",
      "\n",
      "Total time: 754.6942 seconds.\n"
     ]
    }
   ],
   "source": [
    "# train 4way-hosgns \n",
    "print_every=200\n",
    "solver = hosgns_walks.HOSGNSSolver(network=supra_G.to_undirected(), \n",
    "                         window_size=10,\n",
    "                         emb_dim=128,\n",
    "                         order=4,\n",
    "                         iters=4000,\n",
    "                         batch_size=20000, \n",
    "                         negative_samples=5,\n",
    "                         learning_rate=tf.keras.optimizers.schedules.PolynomialDecay(0.05, 4000),\n",
    "                         warmup_steps=1000,\n",
    "                         random_state=42)\n",
    "loss = solver.train(print_loss='sg', print_every=print_every)\n",
    "emb_W, emb_T, emb_C, emb_S = solver.model.factors"
   ]
  },
  {
   "cell_type": "code",
   "execution_count": 12,
   "metadata": {},
   "outputs": [],
   "source": [
    "_, _, df_tnet = load_temp_data(dataset, aggr_time=AGGR_TIME)\n",
    "_, _, df_samp = load_modified_temp_data(dataset, aggr_time=AGGR_TIME)\n",
    "df_del = df_tnet.loc[df_tnet.merge(df_samp, on=['tslice','i','j'], how='left', suffixes=('','_')).weight_.isnull()].reset_index(drop=True)\n",
    "\n",
    "df_samp['tslice'] = df_samp['tslice'].map(map_time_index) \n",
    "df_samp['i'] = df_samp['i'].map(map_node_index) \n",
    "df_samp['j'] = df_samp['j'].map(map_node_index)\n",
    "\n",
    "df_del['tslice'] = df_del['tslice'].map(map_time_index) \n",
    "df_del['i'] = df_del['i'].map(map_node_index) \n",
    "df_del['j'] = df_del['j'].map(map_node_index)"
   ]
  },
  {
   "cell_type": "code",
   "execution_count": 13,
   "metadata": {},
   "outputs": [
    {
     "name": "stdout",
     "output_type": "stream",
     "text": [
      "F1_macro: 0.8181839871297502 +- 0.009654671998388967\n"
     ]
    }
   ],
   "source": [
    "df_events = (df_samp, df_del)\n",
    "\n",
    "lp_res=[]\n",
    "for train_test_dict in make_train_test_splits_LP(n_splits=6, starting_test_size=0.3, \\\n",
    "                       node_active_list=node_tuple_time, df_events=df_events, random_state=100):\n",
    "    emb1_train_idx, emb2_train_idx, emb3_train_idx, y_train = train_test_dict['train']\n",
    "    emb1_test_idx, emb2_test_idx, emb3_test_idx, y_test = train_test_dict['test']\n",
    "    X_train = emb_W.numpy()[emb1_train_idx]*emb_C.numpy()[emb2_train_idx]\\\n",
    "                *emb_T.numpy()[emb3_train_idx]*emb_S.numpy()[emb3_train_idx]\n",
    "    X_test = emb_W.numpy()[emb1_test_idx]*emb_C.numpy()[emb2_test_idx]\\\n",
    "                *emb_T.numpy()[emb3_test_idx]*emb_S.numpy()[emb3_test_idx]\n",
    "    \n",
    "    model_clf = make_pipeline(StandardScaler(), LogisticRegression(max_iter=1000, n_jobs=6, random_state=100))\n",
    "    y_test_pred = model_clf.fit(X_train, y_train).predict(X_test)\n",
    "    lp_res.append(f1_score(y_test, y_test_pred, average='macro'))\n",
    "print('F1_macro:', np.mean(lp_res), '+-', np.std(lp_res))"
   ]
  },
  {
   "cell_type": "code",
   "execution_count": null,
   "metadata": {},
   "outputs": [],
   "source": []
  }
 ],
 "metadata": {
  "colab": {
   "collapsed_sections": [],
   "name": "Copy of medium_matrix_factorization_tensorflow.ipynb",
   "provenance": []
  },
  "kernelspec": {
   "display_name": "Python 3",
   "language": "python",
   "name": "python3"
  },
  "language_info": {
   "codemirror_mode": {
    "name": "ipython",
    "version": 3
   },
   "file_extension": ".py",
   "mimetype": "text/x-python",
   "name": "python",
   "nbconvert_exporter": "python",
   "pygments_lexer": "ipython3",
   "version": "3.6.13"
  }
 },
 "nbformat": 4,
 "nbformat_minor": 4
}
